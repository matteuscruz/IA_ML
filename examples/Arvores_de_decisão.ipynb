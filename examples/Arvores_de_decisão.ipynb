{
  "nbformat": 4,
  "nbformat_minor": 0,
  "metadata": {
    "colab": {
      "name": "Arvores de decisão.ipynb",
      "provenance": []
    },
    "kernelspec": {
      "name": "python3",
      "display_name": "Python 3"
    }
  },
  "cells": [
    {
      "cell_type": "code",
      "metadata": {
        "colab": {
          "base_uri": "https://localhost:8080/"
        },
        "id": "qjVbmRZxnn8F",
        "outputId": "924201e9-bba7-406d-a85d-07165d1f87a9"
      },
      "source": [
        "# Importando as bibliotecas gerais:\n",
        "import pandas as pd\n",
        " \n",
        "\n",
        "# Importando as bibliotecas Scikit Learn\n",
        "from sklearn.preprocessing import LabelEncoder\n",
        "from sklearn.tree import DecisionTreeClassifier\n",
        "from sklearn.tree import export\n",
        "\n",
        "# Imprimindo:\n",
        "print('Todas as bibliotecas importadas!')"
      ],
      "execution_count": 27,
      "outputs": [
        {
          "output_type": "stream",
          "text": [
            "Todas as bibliotecas importadas!\n"
          ],
          "name": "stdout"
        }
      ]
    },
    {
      "cell_type": "code",
      "metadata": {
        "id": "YZaXRQboG-z9"
      },
      "source": [
        "# Definindo o dataset:\n",
        "dataset = pd.read_csv('base_de_credito.csv')\n",
        "\n",
        "# Definindo as features:\n",
        "x = dataset.iloc[:,0:4].values\n",
        "\n",
        "# Definindo os targets:\n",
        "y = dataset.iloc[:,4].values"
      ],
      "execution_count": 28,
      "outputs": []
    },
    {
      "cell_type": "code",
      "metadata": {
        "id": "vTEJ58OiHZv-"
      },
      "source": [
        "# Instânciando o Label Encoder:\n",
        "LE = LabelEncoder()\n",
        "\n",
        "# Transformando as variáveis categóricas:\n",
        "x[:,0] = LE.fit_transform(x[:,0])\n",
        "x[:,1] = LE.fit_transform(x[:,1])\n",
        "x[:,2] = LE.fit_transform(x[:,2])\n",
        "x[:,3] = LE.fit_transform(x[:,3])"
      ],
      "execution_count": 29,
      "outputs": []
    },
    {
      "cell_type": "code",
      "metadata": {
        "colab": {
          "base_uri": "https://localhost:8080/"
        },
        "id": "PwVUOpemIGRB",
        "outputId": "932912d0-2731-4286-f6ff-8f522f117914"
      },
      "source": [
        "# Instânciando a árvore de decisão:\n",
        "DT = DecisionTreeClassifier(criterion='entropy')\n",
        "\n",
        "# Fazendo o treinamento por meio da árvore de decisão:\n",
        "DT.fit(x, y)\n",
        "\n",
        "# Imprimindo o resultado:\n",
        "print('Classificador treinado!')"
      ],
      "execution_count": 30,
      "outputs": [
        {
          "output_type": "stream",
          "text": [
            "Classificador treinado!\n"
          ],
          "name": "stdout"
        }
      ]
    },
    {
      "cell_type": "code",
      "metadata": {
        "colab": {
          "base_uri": "https://localhost:8080/"
        },
        "id": "yiV1Zmn9IcJz",
        "outputId": "661da55b-3951-4763-bbdf-a7dd34ff59eb"
      },
      "source": [
        "# Imprimindo:\n",
        "print(DT.feature_importances_)"
      ],
      "execution_count": 31,
      "outputs": [
        {
          "output_type": "stream",
          "text": [
            "[0.41391643 0.06408636 0.03885431 0.4831429 ]\n"
          ],
          "name": "stdout"
        }
      ]
    },
    {
      "cell_type": "code",
      "metadata": {
        "id": "G4PZEHNiLC4a"
      },
      "source": [
        "export.export_graphviz(DT, out_file='Decision.dot',\n",
        "                       feature_names=['Historia','Divida','Garantia','Renda'],\n",
        "                       class_names=['Alto','Moderado','Baixo'],\n",
        "                       filled=True, leaves_parallel=True)"
      ],
      "execution_count": 35,
      "outputs": []
    },
    {
      "cell_type": "code",
      "metadata": {
        "id": "PwOuZj4EMqKB"
      },
      "source": [
        ""
      ],
      "execution_count": null,
      "outputs": []
    }
  ]
}