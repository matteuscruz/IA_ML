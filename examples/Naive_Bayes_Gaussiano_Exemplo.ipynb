{
  "nbformat": 4,
  "nbformat_minor": 0,
  "metadata": {
    "colab": {
      "name": "Naive_Bayes_Gaussiano_Exemplo.ipynb",
      "provenance": []
    },
    "kernelspec": {
      "name": "python3",
      "display_name": "Python 3"
    }
  },
  "cells": [
    {
      "cell_type": "code",
      "metadata": {
        "id": "5K8SnHqQGGHe"
      },
      "source": [
        "# Importação das bibliotecas gerais:\n",
        "import pandas as pd\n",
        "\n",
        "# Importando as bibliotecas Scikit Learn:\n",
        "from sklearn.naive_bayes import GaussianNB\n",
        "from sklearn.preprocessing import LabelEncoder"
      ],
      "execution_count": null,
      "outputs": []
    },
    {
      "cell_type": "code",
      "metadata": {
        "id": "1HfR3-L8IBVV"
      },
      "source": [
        "# Referência:\n",
        "ref = pd.read_csv('base_de_credito.csv')\n",
        "\n",
        "# Importando base de crédito:\n",
        "dataset = pd.read_csv('base_de_credito.csv')"
      ],
      "execution_count": null,
      "outputs": []
    },
    {
      "cell_type": "code",
      "metadata": {
        "id": "LEMJnusmIY8g"
      },
      "source": [
        "# Definindo as features:\n",
        "x = dataset.iloc[:,0:4].values\n",
        "\n",
        "# Definindo os targets:\n",
        "y = dataset.iloc[:,4]"
      ],
      "execution_count": null,
      "outputs": []
    },
    {
      "cell_type": "code",
      "metadata": {
        "colab": {
          "base_uri": "https://localhost:8080/"
        },
        "id": "GvPuIbSZI49m",
        "outputId": "d0f0ae1a-2249-40d7-c0d4-bea6318530f0"
      },
      "source": [
        "# Instânciando o Classificador Naive Bayes Gaussiano:\n",
        "GNB = GaussianNB()\n",
        "\n",
        "# Instânciando o Encorder (Pois o Naive Bayes não trabalha com variáveis CATEGÓRICAS):\n",
        "ENC = LabelEncoder()\n",
        "\n",
        "# Fazendo a binarização::\n",
        "x[:,0] = ENC.fit_transform(x[:,0])\n",
        "x[:,1] = ENC.fit_transform(x[:,1])\n",
        "x[:,2] = ENC.fit_transform(x[:,2])\n",
        "x[:,3] = ENC.fit_transform(x[:,3])\n",
        "\n",
        "# Fazendo o treinamento:\n",
        "GNB.fit(x, y)\n",
        "\n",
        "# Imprimindo o resultado:\n",
        "print('Treinamento com sucesso!')"
      ],
      "execution_count": null,
      "outputs": [
        {
          "output_type": "stream",
          "text": [
            "Treinamento com sucesso!\n"
          ],
          "name": "stdout"
        }
      ]
    },
    {
      "cell_type": "code",
      "metadata": {
        "colab": {
          "base_uri": "https://localhost:8080/",
          "height": 483
        },
        "id": "goLbK2MRMFJX",
        "outputId": "72db803d-c9b0-4ac8-8fea-1bfdcce22aa9"
      },
      "source": [
        "# Imprimindo a refefência:\n",
        "ref"
      ],
      "execution_count": null,
      "outputs": [
        {
          "output_type": "execute_result",
          "data": {
            "text/html": [
              "<div>\n",
              "<style scoped>\n",
              "    .dataframe tbody tr th:only-of-type {\n",
              "        vertical-align: middle;\n",
              "    }\n",
              "\n",
              "    .dataframe tbody tr th {\n",
              "        vertical-align: top;\n",
              "    }\n",
              "\n",
              "    .dataframe thead th {\n",
              "        text-align: right;\n",
              "    }\n",
              "</style>\n",
              "<table border=\"1\" class=\"dataframe\">\n",
              "  <thead>\n",
              "    <tr style=\"text-align: right;\">\n",
              "      <th></th>\n",
              "      <th>Histórico de crédito</th>\n",
              "      <th>Dívida</th>\n",
              "      <th>Garantias</th>\n",
              "      <th>Renda anual</th>\n",
              "      <th>Risco</th>\n",
              "    </tr>\n",
              "  </thead>\n",
              "  <tbody>\n",
              "    <tr>\n",
              "      <th>0</th>\n",
              "      <td>Ruim</td>\n",
              "      <td>Alta</td>\n",
              "      <td>Nenhuma</td>\n",
              "      <td>&lt; 15.000</td>\n",
              "      <td>Alto</td>\n",
              "    </tr>\n",
              "    <tr>\n",
              "      <th>1</th>\n",
              "      <td>Desconhecida</td>\n",
              "      <td>Alta</td>\n",
              "      <td>Nenhuma</td>\n",
              "      <td>&gt;= 15.000 a &lt;= 35.000</td>\n",
              "      <td>Alto</td>\n",
              "    </tr>\n",
              "    <tr>\n",
              "      <th>2</th>\n",
              "      <td>Desconhecida</td>\n",
              "      <td>Baixa</td>\n",
              "      <td>Nenhuma</td>\n",
              "      <td>&gt;= 15.000 a &lt;= 35.000</td>\n",
              "      <td>Moderado</td>\n",
              "    </tr>\n",
              "    <tr>\n",
              "      <th>3</th>\n",
              "      <td>Desconhecida</td>\n",
              "      <td>Baixa</td>\n",
              "      <td>Nenhuma</td>\n",
              "      <td>&gt; 35.000</td>\n",
              "      <td>Alto</td>\n",
              "    </tr>\n",
              "    <tr>\n",
              "      <th>4</th>\n",
              "      <td>Desconhecida</td>\n",
              "      <td>Baixa</td>\n",
              "      <td>Nenhuma</td>\n",
              "      <td>&gt; 35.000</td>\n",
              "      <td>Baixo</td>\n",
              "    </tr>\n",
              "    <tr>\n",
              "      <th>5</th>\n",
              "      <td>Desconhecida</td>\n",
              "      <td>Baixa</td>\n",
              "      <td>Adequada</td>\n",
              "      <td>&gt; 35.000</td>\n",
              "      <td>Baixo</td>\n",
              "    </tr>\n",
              "    <tr>\n",
              "      <th>6</th>\n",
              "      <td>Ruim</td>\n",
              "      <td>Baixa</td>\n",
              "      <td>Nenhuma</td>\n",
              "      <td>&lt; 15.000</td>\n",
              "      <td>Alto</td>\n",
              "    </tr>\n",
              "    <tr>\n",
              "      <th>7</th>\n",
              "      <td>Ruim</td>\n",
              "      <td>Baixa</td>\n",
              "      <td>Adequada</td>\n",
              "      <td>&gt; 35.000</td>\n",
              "      <td>Moderado</td>\n",
              "    </tr>\n",
              "    <tr>\n",
              "      <th>8</th>\n",
              "      <td>Boa</td>\n",
              "      <td>Baixa</td>\n",
              "      <td>Nenhuma</td>\n",
              "      <td>&gt; 35.000</td>\n",
              "      <td>Baixo</td>\n",
              "    </tr>\n",
              "    <tr>\n",
              "      <th>9</th>\n",
              "      <td>Boa</td>\n",
              "      <td>Alta</td>\n",
              "      <td>Adequada</td>\n",
              "      <td>&gt; 35.000</td>\n",
              "      <td>Baixo</td>\n",
              "    </tr>\n",
              "    <tr>\n",
              "      <th>10</th>\n",
              "      <td>Boa</td>\n",
              "      <td>Alta</td>\n",
              "      <td>Nenhuma</td>\n",
              "      <td>&lt; 15.000</td>\n",
              "      <td>Alto</td>\n",
              "    </tr>\n",
              "    <tr>\n",
              "      <th>11</th>\n",
              "      <td>Boa</td>\n",
              "      <td>Alta</td>\n",
              "      <td>Nenhuma</td>\n",
              "      <td>&gt;= 15.000 a &lt;= 35.000</td>\n",
              "      <td>Moderado</td>\n",
              "    </tr>\n",
              "    <tr>\n",
              "      <th>12</th>\n",
              "      <td>Boa</td>\n",
              "      <td>Alta</td>\n",
              "      <td>Nenhuma</td>\n",
              "      <td>&gt; 35.000</td>\n",
              "      <td>Baixo</td>\n",
              "    </tr>\n",
              "    <tr>\n",
              "      <th>13</th>\n",
              "      <td>Ruim</td>\n",
              "      <td>Alta</td>\n",
              "      <td>Nenhuma</td>\n",
              "      <td>&gt;= 15.000 a &lt;= 35.000</td>\n",
              "      <td>Alto</td>\n",
              "    </tr>\n",
              "  </tbody>\n",
              "</table>\n",
              "</div>"
            ],
            "text/plain": [
              "   Histórico de crédito Dívida Garantias            Renda anual     Risco\n",
              "0                  Ruim  Alta    Nenhuma               < 15.000      Alto\n",
              "1          Desconhecida  Alta    Nenhuma  >= 15.000 a <= 35.000      Alto\n",
              "2          Desconhecida  Baixa   Nenhuma  >= 15.000 a <= 35.000  Moderado\n",
              "3          Desconhecida  Baixa   Nenhuma               > 35.000      Alto\n",
              "4          Desconhecida  Baixa   Nenhuma               > 35.000     Baixo\n",
              "5          Desconhecida  Baixa  Adequada               > 35.000     Baixo\n",
              "6                 Ruim   Baixa   Nenhuma               < 15.000      Alto\n",
              "7                  Ruim  Baixa  Adequada               > 35.000  Moderado\n",
              "8                   Boa  Baixa   Nenhuma               > 35.000     Baixo\n",
              "9                   Boa  Alta   Adequada               > 35.000     Baixo\n",
              "10                  Boa  Alta    Nenhuma               < 15.000      Alto\n",
              "11                  Boa  Alta    Nenhuma  >= 15.000 a <= 35.000  Moderado\n",
              "12                  Boa  Alta    Nenhuma               > 35.000     Baixo\n",
              "13                 Ruim  Alta    Nenhuma  >= 15.000 a <= 35.000      Alto"
            ]
          },
          "metadata": {
            "tags": []
          },
          "execution_count": 33
        }
      ]
    },
    {
      "cell_type": "code",
      "metadata": {
        "colab": {
          "base_uri": "https://localhost:8080/",
          "height": 483
        },
        "id": "YSklcbMnL49J",
        "outputId": "b4d33f89-38e3-49ba-a3d0-05241ce33af4"
      },
      "source": [
        "# Imprimindo os dados transformados:\n",
        "dataset"
      ],
      "execution_count": null,
      "outputs": [
        {
          "output_type": "execute_result",
          "data": {
            "text/html": [
              "<div>\n",
              "<style scoped>\n",
              "    .dataframe tbody tr th:only-of-type {\n",
              "        vertical-align: middle;\n",
              "    }\n",
              "\n",
              "    .dataframe tbody tr th {\n",
              "        vertical-align: top;\n",
              "    }\n",
              "\n",
              "    .dataframe thead th {\n",
              "        text-align: right;\n",
              "    }\n",
              "</style>\n",
              "<table border=\"1\" class=\"dataframe\">\n",
              "  <thead>\n",
              "    <tr style=\"text-align: right;\">\n",
              "      <th></th>\n",
              "      <th>Histórico de crédito</th>\n",
              "      <th>Dívida</th>\n",
              "      <th>Garantias</th>\n",
              "      <th>Renda anual</th>\n",
              "      <th>Risco</th>\n",
              "    </tr>\n",
              "  </thead>\n",
              "  <tbody>\n",
              "    <tr>\n",
              "      <th>0</th>\n",
              "      <td>2</td>\n",
              "      <td>0</td>\n",
              "      <td>1</td>\n",
              "      <td>0</td>\n",
              "      <td>Alto</td>\n",
              "    </tr>\n",
              "    <tr>\n",
              "      <th>1</th>\n",
              "      <td>1</td>\n",
              "      <td>0</td>\n",
              "      <td>1</td>\n",
              "      <td>2</td>\n",
              "      <td>Alto</td>\n",
              "    </tr>\n",
              "    <tr>\n",
              "      <th>2</th>\n",
              "      <td>1</td>\n",
              "      <td>1</td>\n",
              "      <td>1</td>\n",
              "      <td>2</td>\n",
              "      <td>Moderado</td>\n",
              "    </tr>\n",
              "    <tr>\n",
              "      <th>3</th>\n",
              "      <td>1</td>\n",
              "      <td>1</td>\n",
              "      <td>1</td>\n",
              "      <td>1</td>\n",
              "      <td>Alto</td>\n",
              "    </tr>\n",
              "    <tr>\n",
              "      <th>4</th>\n",
              "      <td>1</td>\n",
              "      <td>1</td>\n",
              "      <td>1</td>\n",
              "      <td>1</td>\n",
              "      <td>Baixo</td>\n",
              "    </tr>\n",
              "    <tr>\n",
              "      <th>5</th>\n",
              "      <td>1</td>\n",
              "      <td>1</td>\n",
              "      <td>0</td>\n",
              "      <td>1</td>\n",
              "      <td>Baixo</td>\n",
              "    </tr>\n",
              "    <tr>\n",
              "      <th>6</th>\n",
              "      <td>3</td>\n",
              "      <td>1</td>\n",
              "      <td>1</td>\n",
              "      <td>0</td>\n",
              "      <td>Alto</td>\n",
              "    </tr>\n",
              "    <tr>\n",
              "      <th>7</th>\n",
              "      <td>2</td>\n",
              "      <td>1</td>\n",
              "      <td>0</td>\n",
              "      <td>1</td>\n",
              "      <td>Moderado</td>\n",
              "    </tr>\n",
              "    <tr>\n",
              "      <th>8</th>\n",
              "      <td>0</td>\n",
              "      <td>1</td>\n",
              "      <td>1</td>\n",
              "      <td>1</td>\n",
              "      <td>Baixo</td>\n",
              "    </tr>\n",
              "    <tr>\n",
              "      <th>9</th>\n",
              "      <td>0</td>\n",
              "      <td>0</td>\n",
              "      <td>0</td>\n",
              "      <td>1</td>\n",
              "      <td>Baixo</td>\n",
              "    </tr>\n",
              "    <tr>\n",
              "      <th>10</th>\n",
              "      <td>0</td>\n",
              "      <td>0</td>\n",
              "      <td>1</td>\n",
              "      <td>0</td>\n",
              "      <td>Alto</td>\n",
              "    </tr>\n",
              "    <tr>\n",
              "      <th>11</th>\n",
              "      <td>0</td>\n",
              "      <td>0</td>\n",
              "      <td>1</td>\n",
              "      <td>2</td>\n",
              "      <td>Moderado</td>\n",
              "    </tr>\n",
              "    <tr>\n",
              "      <th>12</th>\n",
              "      <td>0</td>\n",
              "      <td>0</td>\n",
              "      <td>1</td>\n",
              "      <td>1</td>\n",
              "      <td>Baixo</td>\n",
              "    </tr>\n",
              "    <tr>\n",
              "      <th>13</th>\n",
              "      <td>2</td>\n",
              "      <td>0</td>\n",
              "      <td>1</td>\n",
              "      <td>2</td>\n",
              "      <td>Alto</td>\n",
              "    </tr>\n",
              "  </tbody>\n",
              "</table>\n",
              "</div>"
            ],
            "text/plain": [
              "   Histórico de crédito Dívida Garantias Renda anual     Risco\n",
              "0                     2      0         1           0      Alto\n",
              "1                     1      0         1           2      Alto\n",
              "2                     1      1         1           2  Moderado\n",
              "3                     1      1         1           1      Alto\n",
              "4                     1      1         1           1     Baixo\n",
              "5                     1      1         0           1     Baixo\n",
              "6                     3      1         1           0      Alto\n",
              "7                     2      1         0           1  Moderado\n",
              "8                     0      1         1           1     Baixo\n",
              "9                     0      0         0           1     Baixo\n",
              "10                    0      0         1           0      Alto\n",
              "11                    0      0         1           2  Moderado\n",
              "12                    0      0         1           1     Baixo\n",
              "13                    2      0         1           2      Alto"
            ]
          },
          "metadata": {
            "tags": []
          },
          "execution_count": 34
        }
      ]
    },
    {
      "cell_type": "markdown",
      "metadata": {
        "id": "eJJDZC36MUVZ"
      },
      "source": [
        "Prevendo um possível cliente com as seguintes características:\n",
        "\n",
        "\n",
        "*   Histórico = BOA\n",
        "*   Dívida    = ALTA\n",
        "*   Garantias = NENHUMA\n",
        "*   Renda     = > 35\n",
        "\n"
      ]
    },
    {
      "cell_type": "markdown",
      "metadata": {
        "id": "BVfH3FGqNPlt"
      },
      "source": [
        "Usando a referência para econtrar os valores BINÁRIOS das CLASSES, pois lembre-se que o Naive Bayes não trabalha com features categóricas, encontramos que:\n",
        "\n",
        "\n",
        "*   *BOA* = **0**\n",
        "*   *ALTA* = **0**\n",
        "*   *NENHUMA* = **1**\n",
        "*   *>35* = **1**\n",
        "\n"
      ]
    },
    {
      "cell_type": "code",
      "metadata": {
        "id": "cckKNTlfJR58"
      },
      "source": [
        "  # Fazendo a previsão do modelo:\n",
        "  y_pred = GNB.predict([[0, 0, 1, 1]])"
      ],
      "execution_count": null,
      "outputs": []
    },
    {
      "cell_type": "code",
      "metadata": {
        "colab": {
          "base_uri": "https://localhost:8080/"
        },
        "id": "NDKPx2QFMMhr",
        "outputId": "ebda300a-16fe-4adc-d1ce-46178bd5b4d6"
      },
      "source": [
        "# Imprimindo o resultado predito:\n",
        "print('O risco deste empréstimo é: {}'.format(y_pred[0]))"
      ],
      "execution_count": null,
      "outputs": [
        {
          "output_type": "stream",
          "text": [
            "O risco deste empréstimo é: Baixo\n"
          ],
          "name": "stdout"
        }
      ]
    },
    {
      "cell_type": "code",
      "metadata": {
        "id": "5cAN4JC7OInH"
      },
      "source": [
        ""
      ],
      "execution_count": null,
      "outputs": []
    }
  ]
}