{
  "nbformat": 4,
  "nbformat_minor": 0,
  "metadata": {
    "colab": {
      "name": "Perceptron (1 camada).ipynb",
      "provenance": []
    },
    "kernelspec": {
      "name": "python3",
      "display_name": "Python 3"
    }
  },
  "cells": [
    {
      "cell_type": "code",
      "metadata": {
        "id": "iqvtyBDZUTZI"
      },
      "source": [
        "# Importando as bibliotecas necessárias:\n",
        "import numpy as np"
      ],
      "execution_count": 15,
      "outputs": []
    },
    {
      "cell_type": "code",
      "metadata": {
        "id": "6p7A-3TkRVcb"
      },
      "source": [
        "# Features:\n",
        "x = np.array([1, 7, 5])\n",
        "\n",
        "# Weights\n",
        "w = np.array([0.8, 0.1, 0])\n",
        "\n",
        "# Labels"
      ],
      "execution_count": 20,
      "outputs": []
    },
    {
      "cell_type": "code",
      "metadata": {
        "colab": {
          "base_uri": "https://localhost:8080/"
        },
        "id": "77X3V1DERnF2",
        "outputId": "df9713ba-ff22-41b7-b10e-dacab48592a4"
      },
      "source": [
        "def perceptron(x, w):\n",
        "  return x.dot(w)\n",
        "\n",
        "def step(y):\n",
        "  if(y >= 1):\n",
        "    return 1\n",
        "  else:\n",
        "    return 0\n",
        "\n",
        "y = perceptron(x, w)\n",
        "\n",
        "print('Valor do y = {}'.format(y))\n",
        "print('O valor da função step = {}'.format(step(y)))"
      ],
      "execution_count": 21,
      "outputs": [
        {
          "output_type": "stream",
          "text": [
            "Valor do y = 1.5\n",
            "O valor da função step = 1\n"
          ],
          "name": "stdout"
        }
      ]
    },
    {
      "cell_type": "code",
      "metadata": {
        "id": "tm7Rv2KJR8Pv"
      },
      "source": [
        ""
      ],
      "execution_count": null,
      "outputs": []
    }
  ]
}