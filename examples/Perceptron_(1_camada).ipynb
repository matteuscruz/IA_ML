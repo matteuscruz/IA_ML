{
  "nbformat": 4,
  "nbformat_minor": 0,
  "metadata": {
    "colab": {
      "name": "Perceptron (1 camada).ipynb",
      "provenance": []
    },
    "kernelspec": {
      "name": "python3",
      "display_name": "Python 3"
    }
  },
  "cells": [
    {
      "cell_type": "code",
      "metadata": {
        "id": "6p7A-3TkRVcb"
      },
      "source": [
        "# Features:\n",
        "x = [1, 7, 5]\n",
        "\n",
        "# Weights\n",
        "w = [0.8, 0.1, 0]\n",
        "\n",
        "# Labels"
      ],
      "execution_count": 13,
      "outputs": []
    },
    {
      "cell_type": "code",
      "metadata": {
        "colab": {
          "base_uri": "https://localhost:8080/"
        },
        "id": "77X3V1DERnF2",
        "outputId": "3c839a7f-da70-48c8-b842-c8ddb0f76b41"
      },
      "source": [
        "def perceptron(x, w):\n",
        "  y = 0\n",
        "  for i in range(len(x)):\n",
        "    y += x[i] * w[i]\n",
        "  return y\n",
        "\n",
        "def step(y):\n",
        "  if(y >= 1):\n",
        "    return 1\n",
        "  else:\n",
        "    return 0\n",
        "\n",
        "y = perceptron(x, w)\n",
        "\n",
        "print('Valor do y = {}'.format(y))\n",
        "print('O valor da função step = {}'.format(step(y)))"
      ],
      "execution_count": 12,
      "outputs": [
        {
          "output_type": "stream",
          "text": [
            "Valor do y = -0.09999999999999998\n",
            "O valor da função step = 0\n"
          ],
          "name": "stdout"
        }
      ]
    },
    {
      "cell_type": "code",
      "metadata": {
        "id": "tm7Rv2KJR8Pv"
      },
      "source": [
        ""
      ],
      "execution_count": null,
      "outputs": []
    }
  ]
}