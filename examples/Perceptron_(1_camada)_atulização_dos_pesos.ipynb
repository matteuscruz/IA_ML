{
  "nbformat": 4,
  "nbformat_minor": 0,
  "metadata": {
    "colab": {
      "name": "Perceptron (1 camada) atulização dos pesos.ipynb",
      "provenance": []
    },
    "kernelspec": {
      "name": "python3",
      "display_name": "Python 3"
    }
  },
  "cells": [
    {
      "cell_type": "code",
      "metadata": {
        "id": "Zev4XzypeOKB"
      },
      "source": [
        "# Importando as bibliotecas necessárias:\n",
        "import numpy as np"
      ],
      "execution_count": 11,
      "outputs": []
    },
    {
      "cell_type": "code",
      "metadata": {
        "id": "vxWmiWbfeQxt"
      },
      "source": [
        "# Labels\n",
        "x = np.array([[0,0],[0,1],[1,0],[1,1]])\n",
        "\n",
        "# Targets\n",
        "y = np.array([0, 0, 0, 1])\n",
        "\n",
        "# Weights\n",
        "w = np.array([0.0, 0.0, 0.0, 0.0])"
      ],
      "execution_count": 12,
      "outputs": []
    },
    {
      "cell_type": "code",
      "metadata": {
        "id": "ZOGiiVnmehBY"
      },
      "source": [
        "# Definindo a taxa de aprendizado:\n",
        "a = 0.1"
      ],
      "execution_count": 13,
      "outputs": []
    },
    {
      "cell_type": "code",
      "metadata": {
        "id": "SZQedx-MfAAo"
      },
      "source": [
        "# Definindo a função degrau:\n",
        "def sum(hist):\n",
        "  hist_w =   hist.dot(w)\n",
        "  return function(hist_w)\n",
        "\n",
        "def train():\n",
        "  err_t = 1\n",
        "  while(err_t != 1):\n",
        "    err_t = 0\n",
        "    for i in range(len(y)):\n",
        "      y_c = sum(np.asarray(x[i]))\n",
        "      err = abs(y[i] - y_c[i])\n",
        "      err_t += err\n",
        "      for j in range(len(w)):\n",
        "        w[j] += w[j] + (a * x[i][j] * err)\n",
        "        print('Peso = {}'.format(w[j]))\n",
        "    print('Total de erros = {}'.format(err_t))\n",
        "  return 0\n",
        "\n",
        "# Definindo a função ativadora:\n",
        "def function(y):\n",
        "  if(sum >= 1):\n",
        "    return 1\n",
        "  else:\n",
        "    return 0"
      ],
      "execution_count": 21,
      "outputs": []
    },
    {
      "cell_type": "code",
      "metadata": {
        "colab": {
          "base_uri": "https://localhost:8080/"
        },
        "id": "_xxT9LOygS8M",
        "outputId": "aaad07af-1b46-4db7-f4a6-e6b364202d51"
      },
      "source": [
        "train()"
      ],
      "execution_count": 22,
      "outputs": [
        {
          "output_type": "execute_result",
          "data": {
            "text/plain": [
              "0"
            ]
          },
          "metadata": {
            "tags": []
          },
          "execution_count": 22
        }
      ]
    },
    {
      "cell_type": "code",
      "metadata": {
        "id": "A4BViSwtlOff"
      },
      "source": [
        ""
      ],
      "execution_count": null,
      "outputs": []
    }
  ]
}